{
 "cells": [
  {
   "cell_type": "markdown",
   "id": "9696d44f",
   "metadata": {},
   "source": [
    "# 格式化数据集"
   ]
  },
  {
   "cell_type": "code",
   "execution_count": 1,
   "id": "1748084a",
   "metadata": {},
   "outputs": [
    {
     "name": "stdout",
     "output_type": "stream",
     "text": [
      "train 5161434, test 39323\n"
     ]
    }
   ],
   "source": [
    "from datasets import EnglishChineseTranslateDatasets\n",
    "\n",
    "ds = EnglishChineseTranslateDatasets(need_format=True)\n",
    "train_x, train_y = ds.load_train_data()\n",
    "test_x, test_y = ds.load_test_data()\n",
    "print(f\"train {len(train_x)}, test {len(test_x)}\")\n",
    "\n",
    "ds.save()"
   ]
  },
  {
   "cell_type": "markdown",
   "id": "64a8b8a4",
   "metadata": {},
   "source": [
    "# 翻译语料库统计分析"
   ]
  },
  {
   "cell_type": "code",
   "execution_count": 7,
   "id": "4a91a733",
   "metadata": {},
   "outputs": [
    {
     "name": "stdout",
     "output_type": "stream",
     "text": [
      "train 5161434, test 39323\n",
      "[('For greater sharpness, but with a slight increase in graininess, you can use a 1:1 dilution of this developer.', '为了更好的锐度，但是附带的会多一些颗粒度，可以使用这个显影剂的1：1稀释液。'), ('He calls the Green Book, his book of teachings, \"the new gospel.', '他还把宣扬自己思想的所谓《绿皮书》称作“新福音书”。'), ('And the light breeze moves me to caress her long ear', '微风推着我去爱抚它的长耳朵'), ('They have the blood of martyrs is the White to flow .', '它们的先烈们的鲜血是白流了…'), (\"Finally, the Lakers head to the Motor City to take on a Pistons team that currently owns the Eastern Conference's second best record (1/31). L.\", '最后，在1月31日，湖人将前往汽车城底特律挑战活塞队，活塞近来在东部排名第二。')]\n"
     ]
    }
   ],
   "source": [
    "from datasets import EnglishChineseTranslateDatasets, EnglishFrenchTranslateDatasets\n",
    "\n",
    "ds = EnglishChineseTranslateDatasets()\n",
    "# ds = EnglishFrenchTranslateDatasets()\n",
    "\n",
    "train_x, train_y = ds.load_train_data()\n",
    "test_x, test_y = ds.load_test_data()\n",
    "print(f\"train {len(train_x)}, test {len(test_x)}\")\n",
    "print(list(zip(train_x[:5], train_y[:5])))"
   ]
  },
  {
   "cell_type": "code",
   "execution_count": 8,
   "id": "42b286f2",
   "metadata": {},
   "outputs": [
    {
     "data": {
      "image/png": "[encoded data removed]",
      "text/plain": [
       "<Figure size 640x480 with 1 Axes>"
      ]
     },
     "metadata": {},
     "output_type": "display_data"
    }
   ],
   "source": [
    "import collections\n",
    "import numpy as np\n",
    "import matplotlib.pyplot as plt\n",
    "\n",
    "\n",
    "plt.figure()\n",
    "eng_len_list = [\n",
    "    len(item) for item in train_x\n",
    "]\n",
    "ch_len_list = [\n",
    "    len(item) for item in train_y\n",
    "]\n",
    "plt.hist([\n",
    "    eng_len_list, ch_len_list\n",
    "])\n",
    "\n",
    "plt.xlabel(\"# chars per sequence\")\n",
    "plt.ylabel(\"count\")\n",
    "\n",
    "plt.legend([\n",
    "    \"english\", \"chinese\"\n",
    "])\n",
    "plt.show()"
   ]
  },
  {
   "cell_type": "markdown",
   "id": "dad52c03",
   "metadata": {},
   "source": [
    "# 分词和词典处理"
   ]
  },
  {
   "cell_type": "code",
   "execution_count": 5,
   "id": "cef8f43a",
   "metadata": {},
   "outputs": [],
   "source": [
    "from vocab import Vocab, BEGIN_SENTENCE, END_SENTENCE\n",
    "\n",
    "reserved_tokens = [\n",
    "    BEGIN_SENTENCE,\n",
    "    END_SENTENCE\n",
    "]\n",
    "english_voc = Vocab(train_x, min_freq=5, reserved_tokens=reserved_tokens)\n",
    "chinese_voc = Vocab(train_y, min_freq=5, reserved_tokens=reserved_tokens)"
   ]
  },
  {
   "cell_type": "code",
   "execution_count": 6,
   "id": "04f71f43",
   "metadata": {},
   "outputs": [
    {
     "name": "stdout",
     "output_type": "stream",
     "text": [
      "english voc token count: 53\n",
      "chinese voc token count: 68\n"
     ]
    }
   ],
   "source": [
    "print(f\"english voc token count: {len(english_voc)}\")\n",
    "print(f\"chinese voc token count: {len(chinese_voc)}\")"
   ]
  },
  {
   "cell_type": "markdown",
   "id": "4fd9d2b5",
   "metadata": {},
   "source": [
    "# Vocab类测试与验证"
   ]
  },
  {
   "cell_type": "code",
   "execution_count": 22,
   "id": "a83703e0",
   "metadata": {},
   "outputs": [
    {
     "name": "stdout",
     "output_type": "stream",
     "text": [
      "9 ['<unk>', '<bos>', '<eos>', ' ', 'e', 't', 'a', 'o', 'i', 'n']\n",
      "310 ['<unk>', '<bos>', '<eos>', '的', '，', '。', '一', '在', '是', '了']\n",
      "0\n"
     ]
    }
   ],
   "source": [
    "print(english_voc[\"n\"], english_voc.to_tokens(list(range(10))))\n",
    "print(chinese_voc[\"海\"], chinese_voc.to_tokens(list(range(10))))\n",
    "print(english_voc[\"海\"])"
   ]
  },
  {
   "cell_type": "markdown",
   "id": "6135f4d5",
   "metadata": {},
   "source": [
    "# 翻译模型训练数据转换"
   ]
  },
  {
   "cell_type": "code",
   "execution_count": 17,
   "id": "367b22a0",
   "metadata": {},
   "outputs": [
    {
     "name": "stdout",
     "output_type": "stream",
     "text": [
      "building source vocab...\n",
      "building targe vocab...\n",
      "converting x to enc_x...\n",
      "converting y to dec_x...\n",
      "The research of dynamic competition is a fast - developing branch of strategic management theory since of 1980s early, and at-tracting increasing attention from abroad and home.\n",
      "len: 177\n",
      "[28, 12, 4, 3, 11, 4, 10, 4, 6, 11, 15, 12, 3, 7, 18, 3, 14, 21, 9, 6, 17, 8, 15, 3, 15, 7, 17, 19, 4, 5, 8, 5, 8, 7, 9, 3, 8, 10, 3, 6, 3, 18, 6, 10, 5, 3, 29, 3, 14, 4, 26, 4, 13, 7, 19, 8, 9, 20, 3, 23, 11, 6, 9, 15, 12, 3, 7, 18, 3, 10, 5, 11, 6, 5, 4, 20, 8, 15, 3, 17, 6, 9, 6, 20, 4, 17, 4, 9, 5, 3, 5, 12, 4, 7, 11, 21, 3, 10, 8, 9, 15, 4, 3, 7, 18, 3, 47, 64, 69, 38, 10, 3, 4, 6, 11, 13, 21, 25, 3, 6, 9, 14, 3, 6, 5, 29, 5, 11, 6, 15, 5, 8, 9, 20, 3, 8, 9, 15, 11, 4, 6, 10, 8, 9, 20, 3, 6, 5, 5, 4, 9, 5, 8, 7, 9, 3, 18, 11, 7, 17, 3, 6, 23, 11, 7, 6, 14, 3, 6, 9, 14, 3, 12, 7, 17, 4, 24, 2, 2, 2, 2, 2, 2, 2, 2, 2, 2, 2, 2, 2, 2, 2, 2, 2, 2, 2, 2, 2, 2, 2]\n",
      "动态竞争的研究始于80年代初，至今仍是国外企业战略管理学界最重要、讨论最热烈的研究方向之一。\n",
      "len: 46\n",
      "[1, 59, 415, 978, 610, 3, 144, 155, 432, 38, 266, 30, 53, 209, 777, 4, 396, 461, 778, 8, 27, 185, 652, 124, 433, 786, 218, 57, 51, 310, 111, 140, 34, 22, 457, 180, 111, 446, 1165, 3, 144, 155, 45, 228, 85, 6, 5, 2, 2, 2, 2, 2, 2, 2, 2, 2, 2, 2, 2, 2, 2, 2, 2, 2, 2, 2, 2, 2, 2, 2, 2, 2, 2, 2, 2, 2, 2, 2, 2, 2, 2, 2, 2, 2, 2, 2, 2, 2, 2, 2, 2, 2, 2, 2, 2, 2, 2, 2, 2, 2]\n",
      "[59, 415, 978, 610, 3, 144, 155, 432, 38, 266, 30, 53, 209, 777, 4, 396, 461, 778, 8, 27, 185, 652, 124, 433, 786, 218, 57, 51, 310, 111, 140, 34, 22, 457, 180, 111, 446, 1165, 3, 144, 155, 45, 228, 85, 6, 5, 2, 2, 2, 2, 2, 2, 2, 2, 2, 2, 2, 2, 2, 2, 2, 2, 2, 2, 2, 2, 2, 2, 2, 2, 2, 2, 2, 2, 2, 2, 2, 2, 2, 2, 2, 2, 2, 2, 2, 2, 2, 2, 2, 2, 2, 2, 2, 2, 2, 2, 2, 2, 2, 2]\n",
      "from label to tokens...\n",
      "The research of dynamic competition is a fast - developing branch of strategic management theory since of 1980s early, and at-tracting increasing attention from abroad and home.\n",
      "<bos>动态竞争的研究始于80年代初，至今仍是国外企业战略管理学界最重要、讨论最热烈的研究方向之一\n",
      "动态竞争的研究始于80年代初，至今仍是国外企业战略管理学界最重要、讨论最热烈的研究方向之一。\n"
     ]
    }
   ],
   "source": [
    "from datasets import EnglishChineseTranslateDatasets\n",
    "from data_generator import TranslateDataGenerator\n",
    "\n",
    "\n",
    "ds = EnglishChineseTranslateDatasets()\n",
    "test_x, test_y = ds.load_test_data()\n",
    "gen = TranslateDataGenerator(\n",
    "    test_x, test_y, x_sentence_len=200, y_sentence_len=100\n",
    ")\n",
    "\n",
    "\n",
    "idx=123\n",
    "enc_x, x_len, enc_y, y_len, target_y = gen[idx]\n",
    "print(test_x[idx])\n",
    "print(f\"len: {x_len}\")\n",
    "print(list(enc_x))\n",
    "print(test_y[idx])\n",
    "print(f\"len: {y_len}\")\n",
    "print(list(enc_y))\n",
    "print(list(target_y))\n",
    "print(\"from label to tokens...\")\n",
    "print(''.join(gen.x_vocab.to_tokens(list(enc_x[: x_len]))))\n",
    "print(''.join(gen.y_vocab.to_tokens(list(enc_y[: y_len]))))\n",
    "print(''.join(gen.y_vocab.to_tokens(list(target_y[: y_len]))))"
   ]
  }
 ],
 "metadata": {
  "kernelspec": {
   "display_name": "Python 3 (ipykernel)",
   "language": "python",
   "name": "python3"
  },
  "language_info": {
   "codemirror_mode": {
    "name": "ipython",
    "version": 3
   },
   "file_extension": ".py",
   "mimetype": "text/x-python",
   "name": "python",
   "nbconvert_exporter": "python",
   "pygments_lexer": "ipython3",
   "version": "3.10.8"
  }
 },
 "nbformat": 4,
 "nbformat_minor": 5
}
